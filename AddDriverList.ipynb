{
 "cells": [
  {
   "cell_type": "code",
   "execution_count": 1,
   "id": "65296e94",
   "metadata": {
    "ExecuteTime": {
     "end_time": "2022-04-04T06:11:14.030735Z",
     "start_time": "2022-04-04T06:11:13.798659Z"
    }
   },
   "outputs": [],
   "source": [
    "import os\n",
    "import pandas as pd"
   ]
  },
  {
   "cell_type": "code",
   "execution_count": 45,
   "id": "12616846",
   "metadata": {
    "ExecuteTime": {
     "end_time": "2022-04-03T07:05:50.730536Z",
     "start_time": "2022-04-03T07:05:50.714564Z"
    },
    "code_folding": []
   },
   "outputs": [
    {
     "name": "stdout",
     "output_type": "stream",
     "text": [
      "    subject classname           img\n",
      "0      p100       c10  frame270.jpg\n",
      "1      p100       c10  frame361.jpg\n",
      "2      p100       c10   frame91.jpg\n",
      "3      p100       c10   frame42.jpg\n",
      "4      p100       c10  frame731.jpg\n",
      "..      ...       ...           ...\n",
      "534    p100       c10  frame703.jpg\n",
      "535    p100       c10  frame434.jpg\n",
      "536    p100       c10  frame252.jpg\n",
      "537    p100       c10  frame364.jpg\n",
      "538    p100       c10  frame389.jpg\n",
      "\n",
      "[539 rows x 3 columns]\n",
      "    subject classname           img\n",
      "0      p101       c10  frame270.jpg\n",
      "1      p101       c10  frame396.jpg\n",
      "2      p101       c10  frame361.jpg\n",
      "3      p101       c10   frame91.jpg\n",
      "4      p101       c10   frame42.jpg\n",
      "..      ...       ...           ...\n",
      "438    p101       c10  frame434.jpg\n",
      "439    p101       c10  frame218.jpg\n",
      "440    p101       c10  frame252.jpg\n",
      "441    p101       c10  frame364.jpg\n",
      "442    p101       c10  frame389.jpg\n",
      "\n",
      "[443 rows x 3 columns]\n"
     ]
    }
   ],
   "source": [
    "file_list = os.listdir('./cs640480')\n",
    "cs_name = []\n",
    "for i in file_list:\n",
    "    cs_name.append(['p100', 'c10', i])\n",
    "cs_df = pd.DataFrame(cs_name, columns = ['subject','classname','img'])\n",
    "\n",
    "print(cs_df)\n",
    "\n",
    "file_list = os.listdir('./hs')\n",
    "hs_name = []\n",
    "for i in file_list:\n",
    "    hs_name.append(['p101', 'c10', i])\n",
    "hs_df = pd.DataFrame(hs_name, columns = ['subject','classname','img'])\n",
    "\n",
    "print(hs_df)\n",
    "file_list = os.listdir('./ne640480')\n",
    "ne_name = []\n",
    "for i in file_list:\n",
    "    ne_name.append(['p102', 'c10', i])\n",
    "ne_df = pd.DataFrame(ne_name, columns = ['subject','classname','img'])\n",
    "\n",
    "file_list = os.listdir('./sm640480')\n",
    "sm_name = []\n",
    "for i in file_list:\n",
    "    sm_name.append(['p103', 'c10', i])\n",
    "sm_df = pd.DataFrame(sm_name, columns = ['subject','classname','img'])"
   ]
  },
  {
   "cell_type": "code",
   "execution_count": 46,
   "id": "3d280758",
   "metadata": {
    "ExecuteTime": {
     "end_time": "2022-04-03T07:05:51.571533Z",
     "start_time": "2022-04-03T07:05:51.560205Z"
    }
   },
   "outputs": [
    {
     "data": {
      "text/html": [
       "<div>\n",
       "<style scoped>\n",
       "    .dataframe tbody tr th:only-of-type {\n",
       "        vertical-align: middle;\n",
       "    }\n",
       "\n",
       "    .dataframe tbody tr th {\n",
       "        vertical-align: top;\n",
       "    }\n",
       "\n",
       "    .dataframe thead th {\n",
       "        text-align: right;\n",
       "    }\n",
       "</style>\n",
       "<table border=\"1\" class=\"dataframe\">\n",
       "  <thead>\n",
       "    <tr style=\"text-align: right;\">\n",
       "      <th></th>\n",
       "      <th>subject</th>\n",
       "      <th>classname</th>\n",
       "      <th>img</th>\n",
       "    </tr>\n",
       "  </thead>\n",
       "  <tbody>\n",
       "    <tr>\n",
       "      <th>1404</th>\n",
       "      <td>p103</td>\n",
       "      <td>c10</td>\n",
       "      <td>_img_200430.jpg</td>\n",
       "    </tr>\n",
       "    <tr>\n",
       "      <th>1405</th>\n",
       "      <td>p103</td>\n",
       "      <td>c10</td>\n",
       "      <td>_img_200639.jpg</td>\n",
       "    </tr>\n",
       "    <tr>\n",
       "      <th>1406</th>\n",
       "      <td>p103</td>\n",
       "      <td>c10</td>\n",
       "      <td>_img_200605.jpg</td>\n",
       "    </tr>\n",
       "    <tr>\n",
       "      <th>1407</th>\n",
       "      <td>p103</td>\n",
       "      <td>c10</td>\n",
       "      <td>_img_200152.jpg</td>\n",
       "    </tr>\n",
       "    <tr>\n",
       "      <th>1408</th>\n",
       "      <td>p103</td>\n",
       "      <td>c10</td>\n",
       "      <td>_img_200137.jpg</td>\n",
       "    </tr>\n",
       "  </tbody>\n",
       "</table>\n",
       "</div>"
      ],
      "text/plain": [
       "     subject classname              img\n",
       "1404    p103       c10  _img_200430.jpg\n",
       "1405    p103       c10  _img_200639.jpg\n",
       "1406    p103       c10  _img_200605.jpg\n",
       "1407    p103       c10  _img_200152.jpg\n",
       "1408    p103       c10  _img_200137.jpg"
      ]
     },
     "execution_count": 46,
     "metadata": {},
     "output_type": "execute_result"
    }
   ],
   "source": [
    "# ori_pd = pd.read_csv('../driver_imgs_list_01.csv')\n",
    "df_list = [ori_pd, cs_df, hs_df, ne_df, sm_df]\n",
    "result1 = pd.concat(df_list)\n",
    "result1.tail()\n",
    "# result1 = pd.concat([result1, hs_df])\n",
    "# result1 = pd.concat([result1, ne_df])\n",
    "# result1 = pd.concat([result1, sm_df])\n"
   ]
  },
  {
   "cell_type": "code",
   "execution_count": 47,
   "id": "933f9442",
   "metadata": {
    "ExecuteTime": {
     "end_time": "2022-04-03T07:05:53.253271Z",
     "start_time": "2022-04-03T07:05:53.207271Z"
    }
   },
   "outputs": [],
   "source": [
    "result1.to_csv('./driver_imgs_list_01.csv', index=False)"
   ]
  }
 ],
 "metadata": {
  "kernelspec": {
   "display_name": "Python 3 (ipykernel)",
   "language": "python",
   "name": "python3"
  },
  "language_info": {
   "codemirror_mode": {
    "name": "ipython",
    "version": 3
   },
   "file_extension": ".py",
   "mimetype": "text/x-python",
   "name": "python",
   "nbconvert_exporter": "python",
   "pygments_lexer": "ipython3",
   "version": "3.10.2"
  },
  "latex_envs": {
   "LaTeX_envs_menu_present": true,
   "autoclose": false,
   "autocomplete": true,
   "bibliofile": "biblio.bib",
   "cite_by": "apalike",
   "current_citInitial": 1,
   "eqLabelWithNumbers": true,
   "eqNumInitial": 1,
   "hotkeys": {
    "equation": "Ctrl-E",
    "itemize": "Ctrl-I"
   },
   "labels_anchors": false,
   "latex_user_defs": false,
   "report_style_numbering": false,
   "user_envs_cfg": false
  },
  "varInspector": {
   "cols": {
    "lenName": 16,
    "lenType": 16,
    "lenVar": 40
   },
   "kernels_config": {
    "python": {
     "delete_cmd_postfix": "",
     "delete_cmd_prefix": "del ",
     "library": "var_list.py",
     "varRefreshCmd": "print(var_dic_list())"
    },
    "r": {
     "delete_cmd_postfix": ") ",
     "delete_cmd_prefix": "rm(",
     "library": "var_list.r",
     "varRefreshCmd": "cat(var_dic_list()) "
    }
   },
   "types_to_exclude": [
    "module",
    "function",
    "builtin_function_or_method",
    "instance",
    "_Feature"
   ],
   "window_display": false
  }
 },
 "nbformat": 4,
 "nbformat_minor": 5
}
